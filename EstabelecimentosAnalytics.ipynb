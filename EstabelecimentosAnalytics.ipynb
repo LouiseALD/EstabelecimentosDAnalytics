{
 "cells": [
  {
   "cell_type": "markdown",
   "id": "1bd5a246",
   "metadata": {},
   "source": [
    "# ATENÇÃO\n",
    "\n",
    "PARA FUNCIONAMENTO COMPLETO DO CÓDIGO, É NECESSÁRIO RODAR CADA CÉLULA PASSO A PASSO, RESPEITANDO O SEU TEMPO DE EXECUÇÃO. OU SEJA, RODE A PRÓXIMA CÉLULA SOMENTE QUANDO A CÉLULA ATUAL TERMINAR DE EXECUTAR.\n",
    "\n",
    "O TEMPO DE EXECUÇÃO COSTUMA VARIA DE AMBIENTE PARA AMBIENTE E VELOCIDADE DE INTERNET, JUSTAMENTE POR CADA ARQUIVO A SER LIDO E EXECUTADO TER MAIS DE 1.5GB DE DADOS.\n"
   ]
  },
  {
   "cell_type": "markdown",
   "id": "91414845",
   "metadata": {},
   "source": [
    "# Etapa 1  - Extração dos dados\n",
    "\n",
    "Esta etapa do código é responsável por automatizar o processo de download dos arquivos CSVs contendo os dados do Cadastro Nacional da Pessoa Jurídica (CNPJ) do site dados.gov.br. Obs: Os arquivos serão todos baixados localmente, com o tempo de download variando de acordo com a velocidade da internet utilizada."
   ]
  },
  {
   "cell_type": "markdown",
   "id": "8c91b339",
   "metadata": {},
   "source": [
    "OBS 1: \n",
    "\n",
    "1- Não esquecer de setar o localhost do client corretamente para fazer a conexão com o banco\n",
    "    \n",
    "                client = pymongo.MongoClient(\"mongodb://localhost:27017/\")\n",
    "                \n",
    "2- Não esquecer de setar o path do local de onde foi realizado download dos arquivos\n",
    "    \n",
    "                arquivos = r\"C:\\Users\\louis\\Downloads\""
   ]
  },
  {
   "cell_type": "markdown",
   "id": "a6dc07f4",
   "metadata": {},
   "source": [
    "OBS 2: Será necessário esperar realizar todos os downloads, você pode ir acompanhando o status através do próprio webdriver. Nota-se que serão baixados 9 ( nove ) arquivos no total, onde em média cada um tem em torno de 1.5GB a 3GB de dados. \n",
    "O download será realizado de acordo com a velocidade de internet e capacidade do computador."
   ]
  },
  {
   "cell_type": "code",
   "execution_count": 16,
   "id": "05d5ae72",
   "metadata": {},
   "outputs": [
    {
     "name": "stderr",
     "output_type": "stream",
     "text": [
      "C:\\Users\\louis\\AppData\\Local\\Temp\\ipykernel_17360\\1264683989.py:11: DeprecationWarning: executable_path has been deprecated, please pass in a Service object\n",
      "  driver = webdriver.Chrome(executable_path='C:\\chromedriver')\n"
     ]
    },
    {
     "name": "stdout",
     "output_type": "stream",
     "text": [
      "Finished running\n"
     ]
    }
   ],
   "source": [
    "from selenium import webdriver\n",
    "import time\n",
    "from selenium.webdriver.common.by import By\n",
    "\n",
    "\n",
    "options = webdriver.ChromeOptions()\n",
    "options.add_argument('--ignore-certificate-errors')\n",
    "options.add_argument('--incognito')\n",
    "options.add_argument('--headless')\n",
    "\n",
    "driver = webdriver.Chrome(executable_path='C:\\chromedriver')\n",
    "\n",
    "\n",
    "driver.get(\"https://dados.gov.br/dados/conjuntos-dados/cadastro-nacional-da-pessoa-juridica---cnpj\")\n",
    "time.sleep(2)\n",
    "driver.find_element(\"xpath\", '/html/body/div/section/div/div[3]/div[2]/div[3]/div[2]').click()\n",
    "\n",
    "resources = [resource.find_element(\"xpath\", './/button[@id=\"btnDownloadUrl\"]') for resource in \n",
    "             driver.find_elements(\"xpath\", '//*[@id=\"collapse-recursos\"]//div[@class=\"row flex mb-5\"]') \n",
    "             if \"Estabelecimento\" in resource.text ]\n",
    "\n",
    "for button in resources:\n",
    "    time.sleep(1)\n",
    "    button.click()\n",
    "driver.close()\n",
    "\n",
    "print(\"Finished running\")"
   ]
  },
  {
   "cell_type": "markdown",
   "id": "3c0c83f9",
   "metadata": {},
   "source": [
    "# Etapa 2  - Extração dos dados\n",
    "\n",
    "Realizar armazenamento dos dados extraídos na fonte no MongoBD"
   ]
  },
  {
   "cell_type": "markdown",
   "id": "e73127d0",
   "metadata": {},
   "source": [
    "OBS: \n",
    "\n",
    "1- Não esquecer de setar o localhost do client corretamente para fazer a conexão com o banco\n",
    "    \n",
    "                client = pymongo.MongoClient(\"mongodb://localhost:27017/\")\n",
    "                \n",
    "2- Não esquecer de setar o path do local de onde foi realizado download dos arquivos\n",
    "    \n",
    "                arquivos = r\"C:\\Users\\louis\\Downloads\""
   ]
  },
  {
   "cell_type": "code",
   "execution_count": 19,
   "id": "a4320271",
   "metadata": {},
   "outputs": [
    {
     "name": "stdout",
     "output_type": "stream",
     "text": [
      "Estabelecimentos0\n",
      "........................................................................................................................................................................................................................................................................................................................................................................................................................................................................................................................................................................................................................................................................................................................................................................................................................................................................................................................................................................................................................................................................................................................................................................................................................................................................................................................................................................................\n",
      "Total Write Time on mongo:  1541.1459302902222 sec\n",
      "Estabelecimentos1\n",
      "............................................................................................................................................................................................................................................................................................................................................................................................................................................................................................\n",
      "Total Write Time on mongo:  539.5299324989319 sec\n",
      "Estabelecimentos2\n",
      "............................................................................................................................................................................................................................................................................................................................................................................................................................................................................................\n",
      "Total Write Time on mongo:  537.8254764080048 sec\n",
      "Estabelecimentos3\n",
      "............................................................................................................................................................................................................................................................................................................................................................................................................................................................................................\n",
      "Total Write Time on mongo:  538.7478611469269 sec\n",
      "Estabelecimentos4\n",
      "............................................................................................................................................................................................................................................................................................................................................................................................................................................................................................\n",
      "Total Write Time on mongo:  549.8543922901154 sec\n",
      "Estabelecimentos5\n",
      "............................................................................................................................................................................................................................................................................................................................................................................................................................................................................................\n",
      "Total Write Time on mongo:  544.0335574150085 sec\n",
      "Estabelecimentos6\n",
      "............................................................................................................................................................................................................................................................................................................................................................................................................................................................................................\n",
      "Total Write Time on mongo:  542.8849847316742 sec\n",
      "Estabelecimentos7\n",
      "............................................................................................................................................................................................................................................................................................................................................................................................................................................................................................\n",
      "Total Write Time on mongo:  550.7436664104462 sec\n",
      "Estabelecimentos8\n",
      "............................................................................................................................................................................................................................................................................................................................................................................................................................................................................................\n",
      "Total Write Time on mongo:  537.7046093940735 sec\n",
      "Estabelecimentos9\n",
      "............................................................................................................................................................................................................................................................................................................................................................................................................................................................................................\n",
      "Total Write Time on mongo:  547.8941345214844 sec\n"
     ]
    }
   ],
   "source": [
    "#write mongodb\n",
    "import csv\n",
    "import time\n",
    "import pymongo\n",
    "import os\n",
    "from dask import dataframe as dd\n",
    "from collections import defaultdict\n",
    "import dask.bag as db\n",
    "import dask_mongo\n",
    "import pandas as pd\n",
    "import zipfile\n",
    "import json\n",
    "from datetime import datetime\n",
    "import dateutil.parser\n",
    "\n",
    "def dateparse(s):\n",
    "    try:\n",
    "        return datetime.strptime(s, '%Y%m%d')\n",
    "    except ValueError:\n",
    "        return datetime.min\n",
    "    \n",
    "client = pymongo.MongoClient(\"mongodb://localhost:27017/\")\n",
    "mydb = client[\"estabelecimentos\"]\n",
    "mycol = mydb[\"estabelecimentos\"]\n",
    "\n",
    "#hardcoded\n",
    "path = r\"C:\\Users\\louis\\Downloads\"\n",
    "\n",
    "#range hardcoded alterar\n",
    "for i in range(10):\n",
    "    file = os.path.join(path, f\"Estabelecimentos{i}.zip\")\n",
    "    zf = zipfile.ZipFile(file) \n",
    "    filename = zf.namelist()[0]\n",
    "    chunksize = 10 ** 4\n",
    "    names = [\"CNPJ_BASICO\", \"CNPJ_ORDEM\", \"CNPJ_DV\", \"IDENTIFICADOR\", \"FANTASIA\", \"SIT_CADASTRAL\", \"DATA_SIT_CADASTRAL\", \"MOT_SIT_CADASTRAL\", \"NOME_EXT\", \"PAIS\", \"DATA_INI\", \"CNAE_PRINCIPAL\", \"CNAE_SECUNDARIA\", \"TIPO_LOGRADOURO\", \"LOGRADOURO\", \"NUMERO\", \"COMPLEMENTO\", \"BAIRRO\", \"CEP\", \"UF\", \"MUNICIPIO\", \"DDD1\", \"TEL1\", \"DDD2\", \"TEL2\", \"DDD_FAX\", \"FAX\", \"EMAIL\", \"SIT_ESP\",\"DATA_ST_ESP\"]\n",
    "    date_cols = ['DATA_SIT_CADASTRAL', 'DATA_INI']\n",
    "\n",
    "    print(f\"Estabelecimentos{i}\")\n",
    "    \n",
    "    start = time.time()\n",
    "\n",
    "    with pd.read_csv(zf.open(filename), dtype = str, date_parser=dateparse, parse_dates=date_cols, chunksize = chunksize, names = names, header = None, encoding=\"ISO-8859-1\", delimiter=';', keep_default_na=False) as reader:\n",
    "        for chunk in reader:\n",
    "            #start_chunk = time.time()\n",
    "            #chunk['DATA_ST_ESP']= chunk['DATA_ST_ESP'].where(pd.isnull(chunk['DATA_ST_ESP']), datetime.min)\n",
    "            mycol.insert_many(chunk.to_dict(orient='records'))\n",
    "            print('.', end = '')\n",
    "            \n",
    "\n",
    "\n",
    "    print(\"\\nTotal Write Time on mongo: \",(time.time()-start),\"sec\")\n",
    "    print(\"Finished running\")"
   ]
  },
  {
   "cell_type": "markdown",
   "id": "3b75c486",
   "metadata": {},
   "source": [
    "# ETAPA 3 -  Realização das consultas no banco, transformações das consultas em CSV e correlação de tabela.\n",
    "\n",
    "Nesse código, ocorre a realização das consultas dos dados inseridos no banco, além de que, para cada consulta realizada, serão salvos os dados em arquivos no formato CSV."
   ]
  },
  {
   "cell_type": "code",
   "execution_count": 1,
   "id": "f4f46e79",
   "metadata": {},
   "outputs": [
    {
     "name": "stdout",
     "output_type": "stream",
     "text": [
      "Finished running\n"
     ]
    }
   ],
   "source": [
    "import pymongo\n",
    "import time\n",
    "from geopy.geocoders import Nominatim\n",
    "import geopy.distance\n",
    "import pandas as pd\n",
    "import zipfile\n",
    "import re\n",
    "import functools\n",
    "\n",
    "print(\"Finished running\")"
   ]
  },
  {
   "cell_type": "markdown",
   "id": "0c62dbaf",
   "metadata": {},
   "source": [
    "# 4.1 - getActiveEnterprisesPercentage(collection)\n",
    "\n",
    "Essa função calcula a porcentagem de empresas ativas em relação ao total de empresas no banco de dados. Ela utiliza a biblioteca pandas para manipular os dados e retorna um DataFrame contendo o resultado."
   ]
  },
  {
   "cell_type": "code",
   "execution_count": 2,
   "id": "3ad580ec",
   "metadata": {},
   "outputs": [
    {
     "name": "stdout",
     "output_type": "stream",
     "text": [
      "Running\n"
     ]
    }
   ],
   "source": [
    "# 4.1\n",
    "print(\"Running\")\n",
    "def getActiveEnterprisesPercentage(collection):\n",
    "    pipeline = [\n",
    "        {\n",
    "            \"$facet\": {\n",
    "                \"Total\": [\n",
    "                    {\"$count\": \"Total\"},\n",
    "                ],\n",
    "                \"Active\": [\n",
    "                    {\"$match\": {\"SIT_CADASTRAL\": {\"$in\": [\"2\", \"02\"]}}},\n",
    "                    {\"$count\": \"Active\"},\n",
    "                ],\n",
    "            }\n",
    "        },\n",
    "        {\n",
    "            \"$project\": {\n",
    "                \"TOTAL\": {\"$arrayElemAt\": [\"$Total.Total\", 0]},\n",
    "                \"ACTIVE\": {\"$arrayElemAt\": [\"$Active.Active\", 0]},\n",
    "            }\n",
    "        },\n",
    "    ]\n",
    "    result = collection.aggregate(pipeline)\n",
    "    result_dict = list(result)[0]\n",
    "    result_dict[\"ACTIVE_PERCENTAGE\"] = result_dict[\"ACTIVE\"] / result_dict[\"TOTAL\"]\n",
    "    print(\"Mid\")\n",
    "\n",
    "    df = pd.DataFrame(result_dict, index=[0])\n",
    "    return df\n"
   ]
  },
  {
   "cell_type": "markdown",
   "id": "9ff88c04",
   "metadata": {},
   "source": [
    "# 4.2 - getRestaurantsByYear(collection)\n",
    "Essa função retorna a quantidade de restaurantes registrados no banco de dados e agrupa eles de acordo por ano. Ela utiliza expressões regulares e a biblioteca pandas para processar os dados e retorna um DataFrame com o resultado.\n",
    "\n",
    "Detecta os restaurantes de acordo com o prefixo, que é o 561"
   ]
  },
  {
   "cell_type": "code",
   "execution_count": 3,
   "id": "47f9ae66",
   "metadata": {},
   "outputs": [
    {
     "name": "stdout",
     "output_type": "stream",
     "text": [
      "Running\n"
     ]
    }
   ],
   "source": [
    "# 4.2\n",
    "# 561 prefixo restaurante\n",
    "print(\"Running\")\n",
    "def getRestaurantsByYear(collection):\n",
    "    prefix = \"561\"\n",
    "    pattern = re.compile(f\"^{prefix}\")\n",
    "    pipeline = [\n",
    "        {\"$match\": {\"CNAE_PRINCIPAL\": {\"$regex\": pattern}}},\n",
    "        {\n",
    "            \"$group\": {\n",
    "                \"_id\": {\"$year\": \"$DATA_INI\"},\n",
    "                \"CNPJS\": {\n",
    "                    \"$push\": {\n",
    "                        \"$concat\": [\n",
    "                            {\"$substr\": [\"$CNPJ_BASICO\", 0, 2]},\n",
    "                            \".\",\n",
    "                            {\"$substr\": [\"$CNPJ_BASICO\", 2, 3]},\n",
    "                            \".\",\n",
    "                            {\"$substr\": [\"$CNPJ_BASICO\", 5, 3]},\n",
    "                            \"/\",\n",
    "                            \"$CNPJ_ORDEM\",\n",
    "                            \".\",\n",
    "                            \"$CNPJ_DV\",\n",
    "                        ]\n",
    "                    }\n",
    "                },\n",
    "                \"TOTAL\": {\"$sum\": 1},\n",
    "            }\n",
    "        },\n",
    "        {\"$project\": {\"_id\": 0, \"YEAR\": \"$_id\", \"CNPJS\": \"$CNPJS\", \"TOTAL\": \"$TOTAL\"}},\n",
    "        {\"$sort\": {\"YEAR\": 1}},\n",
    "    ]\n",
    "    restaurants = list(collection.aggregate(pipeline))\n",
    "    df = pd.DataFrame(restaurants)\n",
    "    print(\"Finished running\")\n",
    "    return df"
   ]
  },
  {
   "cell_type": "markdown",
   "id": "2995db47",
   "metadata": {},
   "source": [
    "# 4.3 - getDistinctAddress(collection, prefix)\n",
    "Essa função recupera os endereços distintos dos estabelecimentos no banco de dados que correspondem a um determinado prefixo de CEP. Ela utiliza expressão regular e a biblioteca pandas para manipular os dados e retorna uma lista de objetos contendo os detalhes dos endereços.\n"
   ]
  },
  {
   "cell_type": "code",
   "execution_count": 4,
   "id": "cf5f265b",
   "metadata": {},
   "outputs": [
    {
     "name": "stdout",
     "output_type": "stream",
     "text": [
      "Running\n"
     ]
    }
   ],
   "source": [
    "# 4.3\n",
    "print(\"Running\")\n",
    "def getDistinctAddress(collection, prefix):\n",
    "    pattern = re.compile(f\"^{prefix}\")\n",
    "    pipeline = [\n",
    "        {\"$match\": {\"CEP\": {\"$regex\": pattern}}},\n",
    "        {\n",
    "            \"$group\": {\n",
    "                \"_id\": \"$CEP\",\n",
    "                \"CNPJS\": {\n",
    "                    \"$push\": {\n",
    "                        \"$concat\": [\n",
    "                            {\"$substr\": [\"$CNPJ_BASICO\", 0, 2]},\n",
    "                            \".\",\n",
    "                            {\"$substr\": [\"$CNPJ_BASICO\", 2, 3]},\n",
    "                            \".\",\n",
    "                            {\"$substr\": [\"$CNPJ_BASICO\", 5, 3]},\n",
    "                            \"/\",\n",
    "                            \"$CNPJ_ORDEM\",\n",
    "                            \".\",\n",
    "                            \"$CNPJ_DV\",\n",
    "                        ]\n",
    "                    }\n",
    "                },\n",
    "                \"TIPO_LOGRADOURO\": {\"$first\": \"$TIPO_LOGRADOURO\"},\n",
    "                \"LOGRADOURO\": {\"$first\": \"$LOGRADOURO\"},\n",
    "                \"NUMERO\": {\"$first\": \"$NUMERO\"},\n",
    "                \"BAIRRO\": {\"$first\": \"$BAIRRO\"},\n",
    "                \"UF\": {\"$first\": \"$UF\"},\n",
    "                \"TOTAL\": {\"$sum\": 1},\n",
    "            }\n",
    "        },\n",
    "    ]\n",
    "    ceps = collection.aggregate(pipeline)\n",
    "    print(\"Finished running\")\n",
    "    return ceps"
   ]
  },
  {
   "cell_type": "code",
   "execution_count": 5,
   "id": "45638cc9",
   "metadata": {},
   "outputs": [
    {
     "name": "stdout",
     "output_type": "stream",
     "text": [
      "Running\n"
     ]
    }
   ],
   "source": [
    "# 4.3\n",
    "print(\"Running\")\n",
    "def getCnpjsByDistanceToOrigin(collection, ceps, locator, pre_coords={}):\n",
    "    coords = {}\n",
    "    coords_to_update = {}\n",
    "    origin_address = \"ALAMEDA FRANCA 139, JARDIM PAULISTA, SP\"\n",
    "    origin_coords = (-23.567769, -46.6568235)\n",
    "\n",
    "    for cep in ceps:\n",
    "\n",
    "        if cep[\"_id\"] in pre_coords:\n",
    "            # list(set(lst1) & set(lst2))\n",
    "            coords[cep[\"_id\"]] = (\n",
    "                pre_coords[cep[\"_id\"]][0],\n",
    "                list(set(cep[\"CNPJS\"]) & set(pre_coords[cep[\"_id\"]][1])),\n",
    "            )\n",
    "            continue\n",
    "\n",
    "        address = f\"{cep['TIPO_LOGRADOURO']} {cep['LOGRADOURO']} {cep['NUMERO']} - {cep['BAIRRO']}, {cep['UF']}\"\n",
    "\n",
    "        location = locator.geocode(address)\n",
    "        time.sleep(2) #because geopy API limits per second\n",
    "\n",
    "        if location is None:\n",
    "            continue\n",
    "\n",
    "        point = location.point\n",
    "        coord_aux = (point.latitude, point.longitude)\n",
    "        distance = geopy.distance.geodesic(origin_coords, coord_aux).km\n",
    "        if distance <= 5:\n",
    "            coords[cep[\"_id\"]] = (distance, cep[\"CNPJS\"])\n",
    "            coords_to_update[cep[\"_id\"]] = coords[cep[\"_id\"]]\n",
    "       \n",
    "    return (coords, coords_to_update)"
   ]
  },
  {
   "cell_type": "code",
   "execution_count": 6,
   "id": "fbcc341d",
   "metadata": {},
   "outputs": [
    {
     "name": "stdout",
     "output_type": "stream",
     "text": [
      "Running\n"
     ]
    }
   ],
   "source": [
    "# 4.3\n",
    "print(\"Running\")\n",
    "def getExistentCoords(collection):\n",
    "    result = collection.find_one({})\n",
    "    print(\"Finished running, existents coords\")\n",
    "    return result"
   ]
  },
  {
   "cell_type": "code",
   "execution_count": 7,
   "id": "8da59283",
   "metadata": {},
   "outputs": [
    {
     "name": "stdout",
     "output_type": "stream",
     "text": [
      "Running\n"
     ]
    }
   ],
   "source": [
    "print(\"Running\")\n",
    "def updateCoords(collection, coords_to_update):\n",
    "    if coords_to_update:\n",
    "        collection.update_one({}, {\"$set\": coords_to_update}, upsert=True)\n",
    "        print(\"Finished running, update coords\")"
   ]
  },
  {
   "cell_type": "code",
   "execution_count": 8,
   "id": "9a582172",
   "metadata": {},
   "outputs": [
    {
     "name": "stdout",
     "output_type": "stream",
     "text": [
      "Running\n"
     ]
    }
   ],
   "source": [
    "print(\"Running\")\n",
    "def insertCoords(collection, coords):\n",
    "    collection.remove({})\n",
    "    collection.insert_one(coords)\n",
    "    print(\"Finished running, insert coords\")"
   ]
  },
  {
   "cell_type": "markdown",
   "id": "c18a638e",
   "metadata": {},
   "source": [
    "# 4.4 - getCnaeCorrelation(collection)\n",
    "\n",
    "Essa função calcula a correlação entre os códigos CNAE (Classificação Nacional de Atividades Econômicas) principais e secundários dos estabelecimentos. Ela utiliza a biblioteca pandas para manipular os dados e retorna um DataFrame com os resultados da correlação."
   ]
  },
  {
   "cell_type": "code",
   "execution_count": 9,
   "id": "d8005d19",
   "metadata": {},
   "outputs": [
    {
     "name": "stdout",
     "output_type": "stream",
     "text": [
      "Running\n"
     ]
    }
   ],
   "source": [
    "# 4.4\n",
    "print(\"Running\")\n",
    "def getCnaeCorrelation(collection):\n",
    "    pipeline = [\n",
    "        {\n",
    "            \"$project\": {\n",
    "                \"CNAE_PRINCIPAL\": 1,\n",
    "                \"CNAE_SECUNDARIA\": {\"$split\": [\"$CNAE_SECUNDARIA\", \",\"]},\n",
    "            }\n",
    "        },\n",
    "        {\"$unwind\": \"$CNAE_SECUNDARIA\"},\n",
    "        {\n",
    "            \"$group\": {\n",
    "                \"_id\": {\n",
    "                    \"CNAE_PRINCIPAL\": \"$CNAE_PRINCIPAL\",\n",
    "                    \"CNAE_SECUNDARIA\": \"$CNAE_SECUNDARIA\",\n",
    "                },\n",
    "                \"count\": {\"$sum\": 1},\n",
    "            }\n",
    "        },\n",
    "        {\n",
    "            \"$group\": {\n",
    "                \"_id\": \"$_id.CNAE_PRINCIPAL\",\n",
    "                \"CNAE_SECUNDARIA_counts\": {\n",
    "                    \"$push\": {\n",
    "                        \"CNAE_SECUNDARIA\": \"$_id.CNAE_SECUNDARIA\",\n",
    "                        \"count\": \"$count\",\n",
    "                    }\n",
    "                },\n",
    "            }\n",
    "        },\n",
    "        {\n",
    "            \"$project\": {\n",
    "                \"_id\": 0,\n",
    "                \"CNAE_PRINCIPAL\": \"$_id\",\n",
    "                \"CNAE_SECUNDARIAS\": {\n",
    "                    \"$slice\": [\n",
    "                        {\n",
    "                            \"$sortArray\": {\n",
    "                                \"input\": \"$CNAE_SECUNDARIA_counts\",\n",
    "                                \"sortBy\": {\"count\": -1, \"CNAE_SECUNDARIA\": 1},\n",
    "                            }\n",
    "                        },\n",
    "                        10,\n",
    "                        #top 10\n",
    "                    ]\n",
    "                },\n",
    "            }\n",
    "        },\n",
    "        {\"$sort\": {\"CNAE_PRINCIPAL\": 1}},\n",
    "    ]\n",
    "\n",
    "    result = list(collection.aggregate(pipeline))\n",
    "\n",
    "    result = {\n",
    "        document[\"CNAE_PRINCIPAL\"]: {\n",
    "            secundaria[\"CNAE_SECUNDARIA\"]: secundaria[\"count\"]\n",
    "            for secundaria in document[\"CNAE_SECUNDARIAS\"]\n",
    "        }\n",
    "        for document in result\n",
    "    }\n",
    "\n",
    "    df = pd.DataFrame(result).fillna(0)\n",
    "    correlation = df.corr()\n",
    "    print(\"Finished running\")\n",
    "    return correlation"
   ]
  },
  {
   "cell_type": "markdown",
   "id": "680f5e4a",
   "metadata": {},
   "source": [
    "# ACESSO AO BANCO\n",
    "\n",
    "o test-database, é um banco de teste mais leve que roda mais rápido, ao contrário do estabelecimentos, que é mais pesado"
   ]
  },
  {
   "cell_type": "code",
   "execution_count": 10,
   "id": "0e21506d",
   "metadata": {},
   "outputs": [
    {
     "name": "stdout",
     "output_type": "stream",
     "text": [
      "Running\n",
      "Finished running\n"
     ]
    }
   ],
   "source": [
    "print(\"Running\")\n",
    "locator = Nominatim(user_agent=\"application\")\n",
    "client = pymongo.MongoClient(\"mongodb://localhost:27017/\")\n",
    "#mydb = client[\"test-database\"]\n",
    "#mycol = mydb[\"test-collection\"]\n",
    "mydb = client[\"estabelecimentos\"]\n",
    "mycol = mydb[\"estabelecimentos\"]\n",
    "print(\"Finished running\")"
   ]
  },
  {
   "cell_type": "markdown",
   "id": "54663954",
   "metadata": {},
   "source": [
    "# GERANDO CSV s"
   ]
  },
  {
   "cell_type": "code",
   "execution_count": 11,
   "id": "b1c8e1d9",
   "metadata": {},
   "outputs": [
    {
     "name": "stdout",
     "output_type": "stream",
     "text": [
      "Running\n",
      "Mid\n",
      "Finished running\n",
      "      TOTAL    ACTIVE  ACTIVE_PERCENTAGE\n",
      "0  56132011  23248829           0.414181\n"
     ]
    }
   ],
   "source": [
    "print(\"Running\")\n",
    "start = time.time()\n",
    "\n",
    "# 4.1\n",
    "df_active = getActiveEnterprisesPercentage(mycol)\n",
    "print(df_active)\n",
    "df_active.to_csv(\"empresas_ativas.csv\")"
   ]
  },
  {
   "cell_type": "code",
   "execution_count": 16,
   "id": "0a7a1134",
   "metadata": {},
   "outputs": [
    {
     "name": "stdout",
     "output_type": "stream",
     "text": [
      "Finished running\n",
      "    YEAR                                              CNPJS   TOTAL\n",
      "0   1920                               [00.472.818/0001.07]       1\n",
      "1   1932                               [69.000.321/0001.92]       1\n",
      "2   1940                               [61.358.859/0001.61]       1\n",
      "3   1949                               [60.765.468/0001.07]       1\n",
      "4   1950           [60.432.671/0001.53, 33.212.903/0001.95]       2\n",
      "..   ...                                                ...     ...\n",
      "72  2019  [32.330.217/0001.56, 32.330.601/0001.59, 32.33...  226725\n",
      "73  2020  [35.869.394/0001.01, 35.869.467/0001.57, 35.86...  253303\n",
      "74  2021  [37.929.371/0002.43, 40.228.502/0001.99, 40.22...  278026\n",
      "75  2022  [44.708.462/0001.33, 44.708.486/0001.92, 44.70...  228464\n",
      "76  2023  [49.011.938/0001.04, 49.012.583/0001.60, 49.01...   59993\n",
      "\n",
      "[77 rows x 3 columns]\n"
     ]
    }
   ],
   "source": [
    "# 4.2\n",
    "df_restaurants = getRestaurantsByYear(mycol)\n",
    "print(df_restaurants)\n",
    "df_restaurants.to_csv(\"restaurantes_por_ano.csv\")\n"
   ]
  },
  {
   "cell_type": "code",
   "execution_count": 18,
   "id": "1edca65c",
   "metadata": {},
   "outputs": [
    {
     "name": "stdout",
     "output_type": "stream",
     "text": [
      "Finished running, existents coords\n",
      "Finished running\n",
      "a\n",
      "   EMPRESAS_PROXIMAS\n",
      "0              93960\n"
     ]
    }
   ],
   "source": [
    "# 4.3\n",
    "pre_coords = getExistentCoords(client[\"estabelecimentos\"][\"coords\"])\n",
    "ceps = getDistinctAddress(mycol, \"014\")\n",
    "coords, coords_to_update = getCnpjsByDistanceToOrigin(mycol, ceps, locator, pre_coords)\n",
    "if not pre_coords:\n",
    "    insertCoords(client[\"estabelecimentos\"][\"coords\"], coords)\n",
    "else:\n",
    "    updateCoords(client[\"estabelecimentos\"][\"coords\"], coords_to_update)\n",
    "    # updateCoords is optional (but recommended)\n",
    "\n",
    "coords = {key: (value[0], value[1], len(value[1])) for key, value in coords.items()}\n",
    "total = functools.reduce(lambda x, value: x + value[2], coords.values(), 0)\n",
    "print(\"a\")\n",
    "\n",
    "# generate total number\n",
    "df_coords_basic = pd.DataFrame({\"EMPRESAS_PROXIMAS\": total}, index=[0])\n",
    "print(df_coords_basic)\n",
    "df_coords_basic.to_csv(\"empresas_proximas_basic.csv\")\n"
   ]
  },
  {
   "cell_type": "code",
   "execution_count": 19,
   "id": "f1f13e87",
   "metadata": {},
   "outputs": [
    {
     "name": "stdout",
     "output_type": "stream",
     "text": [
      "                                                   01411900  \\\n",
      "distance                                            0.86952   \n",
      "cnpjs     [21.692.098/0001.65, 48.247.449/0001.85, 36.04...   \n",
      "total                                                    55   \n",
      "\n",
      "                                                   01410000  \\\n",
      "distance                                           0.861612   \n",
      "cnpjs     [74.274.671/0001.87, 43.941.045/0001.73, 10.33...   \n",
      "total                                                   566   \n",
      "\n",
      "                                          01455120  \\\n",
      "distance                                    3.8872   \n",
      "cnpjs     [53.689.204/0001.48, 04.466.485/0001.64]   \n",
      "total                                            2   \n",
      "\n",
      "                                                   01448010  \\\n",
      "distance                                           2.211677   \n",
      "cnpjs     [00.903.654/0001.25, 54.516.620/0001.07, 48.82...   \n",
      "total                                                    42   \n",
      "\n",
      "                                                   01420001  \\\n",
      "distance                                            0.32809   \n",
      "cnpjs     [33.745.994/0001.24, 40.014.058/0001.09, 03.31...   \n",
      "total                                                   504   \n",
      "\n",
      "                                                   01448090  \\\n",
      "distance                                              2.836   \n",
      "cnpjs     [27.909.622/0001.93, 25.259.991/0001.52, 71.72...   \n",
      "total                                                    53   \n",
      "\n",
      "                                                   01435902  \\\n",
      "distance                                           1.917137   \n",
      "cnpjs     [48.209.648/0001.07, 35.998.047/0001.70, 43.24...   \n",
      "total                                                     6   \n",
      "\n",
      "                                                   01423906  \\\n",
      "distance                                           0.228021   \n",
      "cnpjs     [65.515.587/0001.17, 02.703.794/0001.85, 62.78...   \n",
      "total                                                    16   \n",
      "\n",
      "                                                   01417030  \\\n",
      "distance                                           1.746679   \n",
      "cnpjs     [17.154.266/0001.91, 02.989.151/0003.01, 55.08...   \n",
      "total                                                    27   \n",
      "\n",
      "                                                   01423010  ...  \\\n",
      "distance                                           0.409099  ...   \n",
      "cnpjs     [46.252.120/0001.87, 37.072.058/0001.50, 68.25...  ...   \n",
      "total                                                   969  ...   \n",
      "\n",
      "                                                   01443060  \\\n",
      "distance                                           3.333878   \n",
      "cnpjs     [06.076.166/0001.78, 03.572.023/0001.69, 96.39...   \n",
      "total                                                    38   \n",
      "\n",
      "                                                   01423918  \\\n",
      "distance                                           0.651007   \n",
      "cnpjs     [38.014.193/0001.02, 47.043.794/0001.34, 45.91...   \n",
      "total                                                     6   \n",
      "\n",
      "                                          01419907  \\\n",
      "distance                                  1.354627   \n",
      "cnpjs     [07.435.815/0001.42, 07.342.923/0001.70]   \n",
      "total                                            2   \n",
      "\n",
      "                                                   01449001  \\\n",
      "distance                                           2.621868   \n",
      "cnpjs     [03.593.734/0001.10, 57.389.108/0002.16, 64.80...   \n",
      "total                                                   233   \n",
      "\n",
      "                                                   01453000  \\\n",
      "distance                                           3.895005   \n",
      "cnpjs     [18.109.091/0001.63, 43.585.363/0001.49, 52.55...   \n",
      "total                                                   569   \n",
      "\n",
      "                                                   01416000  \\\n",
      "distance                                           1.383886   \n",
      "cnpjs     [32.937.846/0001.49, 32.594.197/0001.20, 31.66...   \n",
      "total                                                  1321   \n",
      "\n",
      "                                                   01450040  \\\n",
      "distance                                           3.142068   \n",
      "cnpjs     [17.290.924/0001.72, 27.396.301/0001.32, 46.34...   \n",
      "total                                                    12   \n",
      "\n",
      "                                                   01452913  \\\n",
      "distance                                             3.8246   \n",
      "cnpjs     [46.683.953/0001.00, 53.841.318/0001.61, 56.46...   \n",
      "total                                                   160   \n",
      "\n",
      "                                                   01428000  \\\n",
      "distance                                           1.140773   \n",
      "cnpjs     [60.015.146/0002.13, 37.442.331/0001.91, 49.24...   \n",
      "total                                                    76   \n",
      "\n",
      "                                                   01419909  \n",
      "distance                                           1.248461  \n",
      "cnpjs     [24.562.509/0001.96, 36.048.368/0001.77, 42.25...  \n",
      "total                                                    78  \n",
      "\n",
      "[3 rows x 453 columns]\n"
     ]
    }
   ],
   "source": [
    "# generate doc with all cnpjs by cep\n",
    "df_coords = pd.DataFrame(coords, index=[\"distance\", \"cnpjs\", \"total\"])\n",
    "print(df_coords)\n",
    "df_coords.to_csv(\"empresas_proximas_cnpj.csv\")"
   ]
  },
  {
   "cell_type": "code",
   "execution_count": 20,
   "id": "5c7ad3ec",
   "metadata": {},
   "outputs": [
    {
     "name": "stdout",
     "output_type": "stream",
     "text": [
      "inicio\n",
      "Finished running\n",
      "          0111301   0111302   0111303   0111399   0112101   0112102   0112199  \\\n",
      "0111301  1.000000  0.665638  0.552213  0.947856  0.807087  0.803693  0.775428   \n",
      "0111302  0.665638  1.000000  0.636877  0.701294  0.619185  0.381235  0.550348   \n",
      "0111303  0.552213  0.636877  1.000000  0.469118  0.817519  0.307755  0.365496   \n",
      "0111399  0.947856  0.701294  0.469118  1.000000  0.761138  0.770699  0.899823   \n",
      "0112101  0.807087  0.619185  0.817519  0.761138  1.000000  0.654928  0.648456   \n",
      "...           ...       ...       ...       ...       ...       ...       ...   \n",
      "9609207  0.668320  0.265420  0.058992  0.621871  0.317244  0.578534  0.503956   \n",
      "9609208  0.693233  0.275836  0.061772  0.645156  0.329467  0.600140  0.523009   \n",
      "9609299  0.804425  0.321148  0.072869  0.748846  0.383122  0.696481  0.607444   \n",
      "9700500  0.813159  0.325027  0.074097  0.757053  0.387579  0.704072  0.614240   \n",
      "9900800  0.816451  0.326739  0.074839  0.760196  0.389449  0.706953  0.616930   \n",
      "\n",
      "          0113000   0114800   0115600  ...   9609201   9609202   9609204  \\\n",
      "0111301  0.937963  0.035659  0.531014  ...  0.576179  0.816109  0.816422   \n",
      "0111302  0.491047  0.017247  0.328181  ...  0.229380  0.326499  0.326705   \n",
      "0111303  0.286001  0.025527  0.706087  ...  0.051474  0.074692  0.074810   \n",
      "0111399  0.888701  0.034465  0.495531  ...  0.536243  0.759857  0.760165   \n",
      "0112101  0.609771  0.033077  0.846029  ...  0.273926  0.389208  0.389418   \n",
      "...           ...       ...       ...  ...       ...       ...       ...   \n",
      "9609207  0.780834  0.022164  0.099396  ...  0.579140  0.820909  0.820386   \n",
      "9609208  0.809673  0.023277  0.103581  ...  0.600582  0.850378  0.850537   \n",
      "9609299  0.938991  0.027598  0.121179  ...  0.696610  0.987939  0.985956   \n",
      "9700500  0.948984  0.028113  0.122856  ...  0.704063  0.996276  0.996334   \n",
      "9900800  0.952621  0.028445  0.123719  ...  0.706801  0.999674  0.999985   \n",
      "\n",
      "          9609205   9609206   9609207   9609208   9609299   9700500   9900800  \n",
      "0111301  0.290527  0.797691  0.668320  0.693233  0.804425  0.813159  0.816451  \n",
      "0111302  0.112592  0.318263  0.265420  0.275836  0.321148  0.325027  0.326739  \n",
      "0111303  0.022538  0.072041  0.058992  0.061772  0.072869  0.074097  0.074839  \n",
      "0111399  0.269788  0.742538  0.621871  0.645156  0.748846  0.757053  0.760196  \n",
      "0112101  0.135794  0.379766  0.317244  0.329467  0.383122  0.387579  0.389449  \n",
      "...           ...       ...       ...       ...       ...       ...       ...  \n",
      "9609207  0.294696  0.804949  1.000000  0.836501  0.810580  0.817734  0.820412  \n",
      "9609208  0.309683  0.837412  0.836501  1.000000  0.838226  0.848483  0.850522  \n",
      "9609299  0.353283  0.963960  0.810580  0.838226  1.000000  0.982261  0.985975  \n",
      "9700500  0.364836  0.979711  0.817734  0.848483  0.982261  1.000000  0.996325  \n",
      "9900800  0.359170  0.977898  0.820412  0.850522  0.985975  0.996325  1.000000  \n",
      "\n",
      "[1343 rows x 1343 columns]\n",
      "\n",
      "Total Write Time on mongo:  3019.600068092346 sec\n",
      "Finished running\n"
     ]
    }
   ],
   "source": [
    "# 4.4\n",
    "print(\"inicio\")\n",
    "correlation_cnae = getCnaeCorrelation(mycol)\n",
    "print(correlation_cnae)\n",
    "correlation_cnae.to_csv(\"correlacao_cnae.csv\")\n",
    "\n",
    "end = time.time()\n",
    "print(\"\\nTotal Write Time on mongo: \", (end - start), \"sec\")\n",
    "\n",
    "print(\"Finished running\")\n"
   ]
  },
  {
   "cell_type": "code",
   "execution_count": null,
   "id": "99b83294",
   "metadata": {},
   "outputs": [],
   "source": [
    "\n"
   ]
  }
 ],
 "metadata": {
  "kernelspec": {
   "display_name": "Python 3 (ipykernel)",
   "language": "python",
   "name": "python3"
  },
  "language_info": {
   "codemirror_mode": {
    "name": "ipython",
    "version": 3
   },
   "file_extension": ".py",
   "mimetype": "text/x-python",
   "name": "python",
   "nbconvert_exporter": "python",
   "pygments_lexer": "ipython3",
   "version": "3.9.13"
  }
 },
 "nbformat": 4,
 "nbformat_minor": 5
}
